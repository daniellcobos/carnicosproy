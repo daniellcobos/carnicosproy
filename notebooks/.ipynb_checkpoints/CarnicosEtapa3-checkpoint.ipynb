{
 "cells": [
  {
   "cell_type": "code",
   "execution_count": 1,
   "metadata": {
    "pycharm": {
     "name": "#%%\n"
    }
   },
   "outputs": [],
   "source": [
    "# Establece las librerias del sistema\n",
    "# Manejo de datos\n",
    "import pandas as pd\n",
    "import numpy as np\n",
    "# Maejo de directorios y archivos\n",
    "import os\n",
    "import glob\n",
    "# Librerias de pronotiscos\n",
    "from statsmodels.tsa.api import SimpleExpSmoothing\n",
    "from statsmodels.tsa.api import ExponentialSmoothing, SimpleExpSmoothing, Holt\n",
    "from statsmodels.stats.outliers_influence import summary_table\n",
    "from statsmodels.tsa.seasonal import seasonal_decompose\n",
    "# Advertencias del sistema\n",
    "import warnings\n",
    "warnings.filterwarnings('ignore')\n",
    "\n",
    "\n",
    "\n",
    "# Funciones internas\n",
    "def mape(y_true, y_pred):\n",
    "    y_true, y_pred = np.array(y_true), np.array(y_pred)\n",
    "    return np.mean(np.abs((y_true - y_pred) / y_true)) * 100\n",
    "def wmape(actual, forecast):\n",
    "    actual,forecast = np.array(actual), np.array(forecast)\n",
    "    se_mape = np.abs(actual-forecast)/actual\n",
    "    ft_actual_sum = np.sum(actual)\n",
    "    se_actual_prod_mape = actual * se_mape\n",
    "    ft_actual_prod_mape_sum = np.sum(se_actual_prod_mape)\n",
    "    ft_wmape_forecast = ft_actual_prod_mape_sum / ft_actual_sum\n",
    "    return ft_wmape_forecast * 100"
   ]
  },
  {
   "cell_type": "code",
   "execution_count": 2,
   "metadata": {
    "pycharm": {
     "name": "#%%\n"
    }
   },
   "outputs": [
    {
     "name": "stdout",
     "output_type": "stream",
     "text": [
      "['Hoja2', 'Hoja3', 'E3', 'e2', 'e1', 'dt2', 'dts3', 'dts2', 'dts', 'Hoja1', 'dt', 'dt1']\n",
      "An exception occurred\n"
     ]
    }
   ],
   "source": [
    "\n",
    "categoria =  'CarnicosData'\n",
    "vista = categoria + \"-ini\"\n",
    "path = ( categoria +  '.xlsx')\n",
    "xl = pd.ExcelFile(path)\n",
    "fecha_inicio = '2020-03-02'\n",
    "pproyeccion = 72\n",
    "print(xl.sheet_names)\n",
    "\n",
    "\n",
    "df0 = xl.parse('dts')\n",
    "df1= pd.DataFrame(df0)\n",
    "\n",
    "\n",
    "dir_actual = os.getcwd()\n",
    "\n",
    "Pais = \"Carnico-Periodo-6MesesHolt\"\n",
    "\n",
    "path = os.path.join(dir_actual, Pais)\n",
    "path2 = os.path.join(dir_actual, Pais,\"reportes\")\n",
    "pathc = os.path.join(dir_actual, Pais,\"reportes\",\"Chorizo\")\n",
    "paths = os.path.join(dir_actual, Pais,\"reportes\",\"Salchicha\")\n",
    "try:\n",
    "    os.mkdir(path)\n",
    "    os.mkdir(path2)\n",
    "    os.mkdir(pathc)\n",
    "    os.mkdir(paths)\n",
    "except:\n",
    "  print(\"An exception occurred\")\n"
   ]
  },
  {
   "cell_type": "code",
   "execution_count": 6,
   "metadata": {
    "pycharm": {
     "name": "#%%\n"
    }
   },
   "outputs": [
    {
     "name": "stdout",
     "output_type": "stream",
     "text": [
      "CarnicosData.xlsx\\Lineas.xlsx\n"
     ]
    },
    {
     "ename": "OSError",
     "evalue": "Cannot save file into a non-existent directory: 'CarnicosData.xlsx'",
     "output_type": "error",
     "traceback": [
      "\u001b[1;31m---------------------------------------------------------------------------\u001b[0m",
      "\u001b[1;31mOSError\u001b[0m                                   Traceback (most recent call last)",
      "Cell \u001b[1;32mIn[6], line 5\u001b[0m\n\u001b[0;32m      3\u001b[0m e1[\u001b[38;5;124m'\u001b[39m\u001b[38;5;124mPeriodo\u001b[39m\u001b[38;5;124m'\u001b[39m] \u001b[38;5;241m=\u001b[39m pd\u001b[38;5;241m.\u001b[39mdate_range(start\u001b[38;5;241m=\u001b[39m\u001b[38;5;124m\"\u001b[39m\u001b[38;5;124m2/02/2020\u001b[39m\u001b[38;5;124m\"\u001b[39m, periods\u001b[38;5;241m=\u001b[39me1\u001b[38;5;241m.\u001b[39mshape[\u001b[38;5;241m0\u001b[39m], freq\u001b[38;5;241m=\u001b[39m\u001b[38;5;124m\"\u001b[39m\u001b[38;5;124mW\u001b[39m\u001b[38;5;124m\"\u001b[39m)\n\u001b[0;32m      4\u001b[0m \u001b[38;5;28mprint\u001b[39m(tpath)\n\u001b[1;32m----> 5\u001b[0m \u001b[43me1\u001b[49m\u001b[38;5;241;43m.\u001b[39;49m\u001b[43mto_excel\u001b[49m\u001b[43m(\u001b[49m\u001b[43mtpath\u001b[49m\u001b[43m)\u001b[49m\n\u001b[0;32m      7\u001b[0m \u001b[38;5;28mprint\u001b[39m(e1)\n",
      "File \u001b[1;32m~\\PycharmProjects\\ProyeccionCarnicos\\venv\\Lib\\site-packages\\pandas\\util\\_decorators.py:211\u001b[0m, in \u001b[0;36mdeprecate_kwarg.<locals>._deprecate_kwarg.<locals>.wrapper\u001b[1;34m(*args, **kwargs)\u001b[0m\n\u001b[0;32m    209\u001b[0m     \u001b[38;5;28;01melse\u001b[39;00m:\n\u001b[0;32m    210\u001b[0m         kwargs[new_arg_name] \u001b[38;5;241m=\u001b[39m new_arg_value\n\u001b[1;32m--> 211\u001b[0m \u001b[38;5;28;01mreturn\u001b[39;00m \u001b[43mfunc\u001b[49m\u001b[43m(\u001b[49m\u001b[38;5;241;43m*\u001b[39;49m\u001b[43margs\u001b[49m\u001b[43m,\u001b[49m\u001b[43m \u001b[49m\u001b[38;5;241;43m*\u001b[39;49m\u001b[38;5;241;43m*\u001b[39;49m\u001b[43mkwargs\u001b[49m\u001b[43m)\u001b[49m\n",
      "File \u001b[1;32m~\\PycharmProjects\\ProyeccionCarnicos\\venv\\Lib\\site-packages\\pandas\\util\\_decorators.py:211\u001b[0m, in \u001b[0;36mdeprecate_kwarg.<locals>._deprecate_kwarg.<locals>.wrapper\u001b[1;34m(*args, **kwargs)\u001b[0m\n\u001b[0;32m    209\u001b[0m     \u001b[38;5;28;01melse\u001b[39;00m:\n\u001b[0;32m    210\u001b[0m         kwargs[new_arg_name] \u001b[38;5;241m=\u001b[39m new_arg_value\n\u001b[1;32m--> 211\u001b[0m \u001b[38;5;28;01mreturn\u001b[39;00m \u001b[43mfunc\u001b[49m\u001b[43m(\u001b[49m\u001b[38;5;241;43m*\u001b[39;49m\u001b[43margs\u001b[49m\u001b[43m,\u001b[49m\u001b[43m \u001b[49m\u001b[38;5;241;43m*\u001b[39;49m\u001b[38;5;241;43m*\u001b[39;49m\u001b[43mkwargs\u001b[49m\u001b[43m)\u001b[49m\n",
      "File \u001b[1;32m~\\PycharmProjects\\ProyeccionCarnicos\\venv\\Lib\\site-packages\\pandas\\core\\generic.py:2374\u001b[0m, in \u001b[0;36mNDFrame.to_excel\u001b[1;34m(self, excel_writer, sheet_name, na_rep, float_format, columns, header, index, index_label, startrow, startcol, engine, merge_cells, encoding, inf_rep, verbose, freeze_panes, storage_options)\u001b[0m\n\u001b[0;32m   2361\u001b[0m \u001b[38;5;28;01mfrom\u001b[39;00m \u001b[38;5;21;01mpandas\u001b[39;00m\u001b[38;5;21;01m.\u001b[39;00m\u001b[38;5;21;01mio\u001b[39;00m\u001b[38;5;21;01m.\u001b[39;00m\u001b[38;5;21;01mformats\u001b[39;00m\u001b[38;5;21;01m.\u001b[39;00m\u001b[38;5;21;01mexcel\u001b[39;00m \u001b[38;5;28;01mimport\u001b[39;00m ExcelFormatter\n\u001b[0;32m   2363\u001b[0m formatter \u001b[38;5;241m=\u001b[39m ExcelFormatter(\n\u001b[0;32m   2364\u001b[0m     df,\n\u001b[0;32m   2365\u001b[0m     na_rep\u001b[38;5;241m=\u001b[39mna_rep,\n\u001b[1;32m   (...)\u001b[0m\n\u001b[0;32m   2372\u001b[0m     inf_rep\u001b[38;5;241m=\u001b[39minf_rep,\n\u001b[0;32m   2373\u001b[0m )\n\u001b[1;32m-> 2374\u001b[0m \u001b[43mformatter\u001b[49m\u001b[38;5;241;43m.\u001b[39;49m\u001b[43mwrite\u001b[49m\u001b[43m(\u001b[49m\n\u001b[0;32m   2375\u001b[0m \u001b[43m    \u001b[49m\u001b[43mexcel_writer\u001b[49m\u001b[43m,\u001b[49m\n\u001b[0;32m   2376\u001b[0m \u001b[43m    \u001b[49m\u001b[43msheet_name\u001b[49m\u001b[38;5;241;43m=\u001b[39;49m\u001b[43msheet_name\u001b[49m\u001b[43m,\u001b[49m\n\u001b[0;32m   2377\u001b[0m \u001b[43m    \u001b[49m\u001b[43mstartrow\u001b[49m\u001b[38;5;241;43m=\u001b[39;49m\u001b[43mstartrow\u001b[49m\u001b[43m,\u001b[49m\n\u001b[0;32m   2378\u001b[0m \u001b[43m    \u001b[49m\u001b[43mstartcol\u001b[49m\u001b[38;5;241;43m=\u001b[39;49m\u001b[43mstartcol\u001b[49m\u001b[43m,\u001b[49m\n\u001b[0;32m   2379\u001b[0m \u001b[43m    \u001b[49m\u001b[43mfreeze_panes\u001b[49m\u001b[38;5;241;43m=\u001b[39;49m\u001b[43mfreeze_panes\u001b[49m\u001b[43m,\u001b[49m\n\u001b[0;32m   2380\u001b[0m \u001b[43m    \u001b[49m\u001b[43mengine\u001b[49m\u001b[38;5;241;43m=\u001b[39;49m\u001b[43mengine\u001b[49m\u001b[43m,\u001b[49m\n\u001b[0;32m   2381\u001b[0m \u001b[43m    \u001b[49m\u001b[43mstorage_options\u001b[49m\u001b[38;5;241;43m=\u001b[39;49m\u001b[43mstorage_options\u001b[49m\u001b[43m,\u001b[49m\n\u001b[0;32m   2382\u001b[0m \u001b[43m\u001b[49m\u001b[43m)\u001b[49m\n",
      "File \u001b[1;32m~\\PycharmProjects\\ProyeccionCarnicos\\venv\\Lib\\site-packages\\pandas\\io\\formats\\excel.py:944\u001b[0m, in \u001b[0;36mExcelFormatter.write\u001b[1;34m(self, writer, sheet_name, startrow, startcol, freeze_panes, engine, storage_options)\u001b[0m\n\u001b[0;32m    940\u001b[0m     need_save \u001b[38;5;241m=\u001b[39m \u001b[38;5;28;01mFalse\u001b[39;00m\n\u001b[0;32m    941\u001b[0m \u001b[38;5;28;01melse\u001b[39;00m:\n\u001b[0;32m    942\u001b[0m     \u001b[38;5;66;03m# error: Cannot instantiate abstract class 'ExcelWriter' with abstract\u001b[39;00m\n\u001b[0;32m    943\u001b[0m     \u001b[38;5;66;03m# attributes 'engine', 'save', 'supported_extensions' and 'write_cells'\u001b[39;00m\n\u001b[1;32m--> 944\u001b[0m     writer \u001b[38;5;241m=\u001b[39m \u001b[43mExcelWriter\u001b[49m\u001b[43m(\u001b[49m\u001b[43m  \u001b[49m\u001b[38;5;66;43;03m# type: ignore[abstract]\u001b[39;49;00m\n\u001b[0;32m    945\u001b[0m \u001b[43m        \u001b[49m\u001b[43mwriter\u001b[49m\u001b[43m,\u001b[49m\u001b[43m \u001b[49m\u001b[43mengine\u001b[49m\u001b[38;5;241;43m=\u001b[39;49m\u001b[43mengine\u001b[49m\u001b[43m,\u001b[49m\u001b[43m \u001b[49m\u001b[43mstorage_options\u001b[49m\u001b[38;5;241;43m=\u001b[39;49m\u001b[43mstorage_options\u001b[49m\n\u001b[0;32m    946\u001b[0m \u001b[43m    \u001b[49m\u001b[43m)\u001b[49m\n\u001b[0;32m    947\u001b[0m     need_save \u001b[38;5;241m=\u001b[39m \u001b[38;5;28;01mTrue\u001b[39;00m\n\u001b[0;32m    949\u001b[0m \u001b[38;5;28;01mtry\u001b[39;00m:\n",
      "File \u001b[1;32m~\\PycharmProjects\\ProyeccionCarnicos\\venv\\Lib\\site-packages\\pandas\\io\\excel\\_openpyxl.py:60\u001b[0m, in \u001b[0;36mOpenpyxlWriter.__init__\u001b[1;34m(self, path, engine, date_format, datetime_format, mode, storage_options, if_sheet_exists, engine_kwargs, **kwargs)\u001b[0m\n\u001b[0;32m     56\u001b[0m \u001b[38;5;28;01mfrom\u001b[39;00m \u001b[38;5;21;01mopenpyxl\u001b[39;00m\u001b[38;5;21;01m.\u001b[39;00m\u001b[38;5;21;01mworkbook\u001b[39;00m \u001b[38;5;28;01mimport\u001b[39;00m Workbook\n\u001b[0;32m     58\u001b[0m engine_kwargs \u001b[38;5;241m=\u001b[39m combine_kwargs(engine_kwargs, kwargs)\n\u001b[1;32m---> 60\u001b[0m \u001b[38;5;28;43msuper\u001b[39;49m\u001b[43m(\u001b[49m\u001b[43m)\u001b[49m\u001b[38;5;241;43m.\u001b[39;49m\u001b[38;5;21;43m__init__\u001b[39;49m\u001b[43m(\u001b[49m\n\u001b[0;32m     61\u001b[0m \u001b[43m    \u001b[49m\u001b[43mpath\u001b[49m\u001b[43m,\u001b[49m\n\u001b[0;32m     62\u001b[0m \u001b[43m    \u001b[49m\u001b[43mmode\u001b[49m\u001b[38;5;241;43m=\u001b[39;49m\u001b[43mmode\u001b[49m\u001b[43m,\u001b[49m\n\u001b[0;32m     63\u001b[0m \u001b[43m    \u001b[49m\u001b[43mstorage_options\u001b[49m\u001b[38;5;241;43m=\u001b[39;49m\u001b[43mstorage_options\u001b[49m\u001b[43m,\u001b[49m\n\u001b[0;32m     64\u001b[0m \u001b[43m    \u001b[49m\u001b[43mif_sheet_exists\u001b[49m\u001b[38;5;241;43m=\u001b[39;49m\u001b[43mif_sheet_exists\u001b[49m\u001b[43m,\u001b[49m\n\u001b[0;32m     65\u001b[0m \u001b[43m    \u001b[49m\u001b[43mengine_kwargs\u001b[49m\u001b[38;5;241;43m=\u001b[39;49m\u001b[43mengine_kwargs\u001b[49m\u001b[43m,\u001b[49m\n\u001b[0;32m     66\u001b[0m \u001b[43m\u001b[49m\u001b[43m)\u001b[49m\n\u001b[0;32m     68\u001b[0m \u001b[38;5;66;03m# ExcelWriter replaced \"a\" by \"r+\" to allow us to first read the excel file from\u001b[39;00m\n\u001b[0;32m     69\u001b[0m \u001b[38;5;66;03m# the file and later write to it\u001b[39;00m\n\u001b[0;32m     70\u001b[0m \u001b[38;5;28;01mif\u001b[39;00m \u001b[38;5;124m\"\u001b[39m\u001b[38;5;124mr+\u001b[39m\u001b[38;5;124m\"\u001b[39m \u001b[38;5;129;01min\u001b[39;00m \u001b[38;5;28mself\u001b[39m\u001b[38;5;241m.\u001b[39m_mode:  \u001b[38;5;66;03m# Load from existing workbook\u001b[39;00m\n",
      "File \u001b[1;32m~\\PycharmProjects\\ProyeccionCarnicos\\venv\\Lib\\site-packages\\pandas\\io\\excel\\_base.py:1313\u001b[0m, in \u001b[0;36mExcelWriter.__init__\u001b[1;34m(self, path, engine, date_format, datetime_format, mode, storage_options, if_sheet_exists, engine_kwargs, **kwargs)\u001b[0m\n\u001b[0;32m   1309\u001b[0m \u001b[38;5;28mself\u001b[39m\u001b[38;5;241m.\u001b[39m_handles \u001b[38;5;241m=\u001b[39m IOHandles(\n\u001b[0;32m   1310\u001b[0m     cast(IO[\u001b[38;5;28mbytes\u001b[39m], path), compression\u001b[38;5;241m=\u001b[39m{\u001b[38;5;124m\"\u001b[39m\u001b[38;5;124mcompression\u001b[39m\u001b[38;5;124m\"\u001b[39m: \u001b[38;5;28;01mNone\u001b[39;00m}\n\u001b[0;32m   1311\u001b[0m )\n\u001b[0;32m   1312\u001b[0m \u001b[38;5;28;01mif\u001b[39;00m \u001b[38;5;129;01mnot\u001b[39;00m \u001b[38;5;28misinstance\u001b[39m(path, ExcelWriter):\n\u001b[1;32m-> 1313\u001b[0m     \u001b[38;5;28mself\u001b[39m\u001b[38;5;241m.\u001b[39m_handles \u001b[38;5;241m=\u001b[39m \u001b[43mget_handle\u001b[49m\u001b[43m(\u001b[49m\n\u001b[0;32m   1314\u001b[0m \u001b[43m        \u001b[49m\u001b[43mpath\u001b[49m\u001b[43m,\u001b[49m\u001b[43m \u001b[49m\u001b[43mmode\u001b[49m\u001b[43m,\u001b[49m\u001b[43m \u001b[49m\u001b[43mstorage_options\u001b[49m\u001b[38;5;241;43m=\u001b[39;49m\u001b[43mstorage_options\u001b[49m\u001b[43m,\u001b[49m\u001b[43m \u001b[49m\u001b[43mis_text\u001b[49m\u001b[38;5;241;43m=\u001b[39;49m\u001b[38;5;28;43;01mFalse\u001b[39;49;00m\n\u001b[0;32m   1315\u001b[0m \u001b[43m    \u001b[49m\u001b[43m)\u001b[49m\n\u001b[0;32m   1316\u001b[0m \u001b[38;5;28mself\u001b[39m\u001b[38;5;241m.\u001b[39m_cur_sheet \u001b[38;5;241m=\u001b[39m \u001b[38;5;28;01mNone\u001b[39;00m\n\u001b[0;32m   1318\u001b[0m \u001b[38;5;28;01mif\u001b[39;00m date_format \u001b[38;5;129;01mis\u001b[39;00m \u001b[38;5;28;01mNone\u001b[39;00m:\n",
      "File \u001b[1;32m~\\PycharmProjects\\ProyeccionCarnicos\\venv\\Lib\\site-packages\\pandas\\io\\common.py:734\u001b[0m, in \u001b[0;36mget_handle\u001b[1;34m(path_or_buf, mode, encoding, compression, memory_map, is_text, errors, storage_options)\u001b[0m\n\u001b[0;32m    732\u001b[0m \u001b[38;5;66;03m# Only for write methods\u001b[39;00m\n\u001b[0;32m    733\u001b[0m \u001b[38;5;28;01mif\u001b[39;00m \u001b[38;5;124m\"\u001b[39m\u001b[38;5;124mr\u001b[39m\u001b[38;5;124m\"\u001b[39m \u001b[38;5;129;01mnot\u001b[39;00m \u001b[38;5;129;01min\u001b[39;00m mode \u001b[38;5;129;01mand\u001b[39;00m is_path:\n\u001b[1;32m--> 734\u001b[0m     \u001b[43mcheck_parent_directory\u001b[49m\u001b[43m(\u001b[49m\u001b[38;5;28;43mstr\u001b[39;49m\u001b[43m(\u001b[49m\u001b[43mhandle\u001b[49m\u001b[43m)\u001b[49m\u001b[43m)\u001b[49m\n\u001b[0;32m    736\u001b[0m \u001b[38;5;28;01mif\u001b[39;00m compression:\n\u001b[0;32m    737\u001b[0m     \u001b[38;5;28;01mif\u001b[39;00m compression \u001b[38;5;241m!=\u001b[39m \u001b[38;5;124m\"\u001b[39m\u001b[38;5;124mzstd\u001b[39m\u001b[38;5;124m\"\u001b[39m:\n\u001b[0;32m    738\u001b[0m         \u001b[38;5;66;03m# compression libraries do not like an explicit text-mode\u001b[39;00m\n",
      "File \u001b[1;32m~\\PycharmProjects\\ProyeccionCarnicos\\venv\\Lib\\site-packages\\pandas\\io\\common.py:597\u001b[0m, in \u001b[0;36mcheck_parent_directory\u001b[1;34m(path)\u001b[0m\n\u001b[0;32m    595\u001b[0m parent \u001b[38;5;241m=\u001b[39m Path(path)\u001b[38;5;241m.\u001b[39mparent\n\u001b[0;32m    596\u001b[0m \u001b[38;5;28;01mif\u001b[39;00m \u001b[38;5;129;01mnot\u001b[39;00m parent\u001b[38;5;241m.\u001b[39mis_dir():\n\u001b[1;32m--> 597\u001b[0m     \u001b[38;5;28;01mraise\u001b[39;00m \u001b[38;5;167;01mOSError\u001b[39;00m(\u001b[38;5;124mrf\u001b[39m\u001b[38;5;124m\"\u001b[39m\u001b[38;5;124mCannot save file into a non-existent directory: \u001b[39m\u001b[38;5;124m'\u001b[39m\u001b[38;5;132;01m{\u001b[39;00mparent\u001b[38;5;132;01m}\u001b[39;00m\u001b[38;5;124m'\u001b[39m\u001b[38;5;124m\"\u001b[39m)\n",
      "\u001b[1;31mOSError\u001b[0m: Cannot save file into a non-existent directory: 'CarnicosData.xlsx'"
     ]
    }
   ],
   "source": [
    "e1 = pd.pivot_table(df1, values='Cantidad', index=['Fecha'],columns=['Linea'], aggfunc=np.sum)\n",
    "tpath = os.path.join(path,\"Lineas.xlsx\")\n",
    "e1['Periodo'] = pd.date_range(start=\"2/02/2020\", periods=e1.shape[0], freq=\"W\")\n",
    "print(tpath)\n",
    "e1.to_excel(tpath)\n",
    "\n",
    "print(e1)\n"
   ]
  },
  {
   "cell_type": "code",
   "execution_count": null,
   "metadata": {
    "pycharm": {
     "name": "#%%\n"
    }
   },
   "outputs": [],
   "source": [
    "\"\"\"\n",
    "Generalmente de aqui en adelante, las variables que terminan en s se refieren a salchichas y en c a chorizos\n",
    "\"\"\"\n",
    "\n",
    "\n",
    "dfc = df1[(df1.Linea == 'Chorizo y Variedades')]\n",
    "dfs = df1[(df1.Linea == 'Salchicha')]\n",
    "e2c = pd.pivot_table(dfc, values='Cantidad', index=['Fecha'],columns=['Centro Distribución'], aggfunc=np.sum, margins=True,margins_name=\"Total\")\n",
    "e2s = pd.pivot_table(dfs, values='Cantidad', index=['Fecha'],columns=['Centro Distribución'], aggfunc=np.sum,margins=True,margins_name=\"Total\")\n",
    "#Copia el dataframe para rellenar con menor sesgo posteriormente\n",
    "#Chorizos\n",
    "e2cn = e2c.copy(deep=True)\n",
    "Ntotalc =e2c[\"Total\"]/e2c[\"Total\"].loc[\"Total\"]\n",
    "e2cn.iloc[0:155] = e2c.loc[\"Total\"]\n",
    "e2c[\"NTotal\"] = Ntotalc\n",
    "e2cn = e2cn.multiply(e2c[\"NTotal\"], axis = \"index\")\n",
    "#Salchichas\n",
    "e2sn = e2s.copy(deep=True)\n",
    "Ntotals =e2s[\"Total\"]/e2s[\"Total\"].loc[\"Total\"]\n",
    "e2sn.iloc[0:155] = e2s.loc[\"Total\"]\n",
    "e2s[\"NTotal\"] = Ntotals\n",
    "e2sn = e2sn.multiply(e2s[\"NTotal\"], axis = \"index\")\n",
    "\n",
    "spath = os.path.join(path,\"CenDis_Salchicha_Procesado.xlsx\")\n",
    "cpath = os.path.join(path,\"CenDis_Chorizo_Procesado.xlsx\")\n",
    "#Rellena dt con los datos de menor sesgo\n",
    "e2c = e2c.fillna(e2cn)\n",
    "e2s= e2s.fillna(e2sn)\n",
    "\n",
    "\n",
    "e2c.to_excel(cpath)\n",
    "e2s.to_excel(spath)"
   ]
  },
  {
   "cell_type": "code",
   "execution_count": null,
   "metadata": {
    "pycharm": {
     "name": "#%%\n"
    }
   },
   "outputs": [],
   "source": [
    "cdlist = df1[\"Centro Distribución\"].unique()\n",
    "pivotlistc = {}\n",
    "pivotlists = {}\n",
    "pivotlistc2 = {}\n",
    "pivotlists2 = {}\n",
    "#Crea las tablas pivote de material por centro de distribucion\n",
    "for Cd in cdlist:\n",
    "    dfccd = dfc[(dfc[\"Centro Distribución\"] == Cd)]\n",
    "    dfscd = dfs[(dfs[\"Centro Distribución\"] == Cd)]\n",
    "\n",
    "    e3c = pd.pivot_table(dfccd, values='Cantidad', index=['Fecha'],columns=['Codmat'], aggfunc=np.sum)\n",
    "    e3s = pd.pivot_table(dfscd, values='Cantidad', index=['Fecha'],columns=['Codmat'], aggfunc=np.sum)\n",
    "    e3c2 = pd.pivot_table(dfccd, values='Cantidad', index=['Fecha'],columns=['Codmat'], aggfunc=np.sum, margins=True,margins_name=\"Total\")\n",
    "    e3s2 = pd.pivot_table(dfscd, values='Cantidad', index=['Fecha'],columns=['Codmat'], aggfunc=np.sum, margins=True,margins_name=\"Total\")\n",
    "    pivotlistc[Cd]=(e3c)\n",
    "    pivotlists[Cd]=(e3s)\n",
    "    pivotlistc2[Cd]=(e3c2)\n",
    "    pivotlists2[Cd]=(e3s2)\n",
    "print(pivotlists[\"NN18\"])\n"
   ]
  },
  {
   "cell_type": "code",
   "execution_count": null,
   "metadata": {
    "pycharm": {
     "name": "#%%\n"
    }
   },
   "outputs": [],
   "source": [
    "sframe = pd.DataFrame()\n",
    "cframe = pd.DataFrame()\n",
    "#Dataframe de las categorias\n",
    "cframe.index = ['A','B','C']\n",
    "sframe.index = ['A','B','C']\n",
    "dfproyeccioness = {}\n",
    "dfproyeccionesc = {}\n",
    "matstoprojects = {}\n",
    "matstoprojectc = {}\n",
    "\n",
    "def categoria(x):\n",
    "    if x == 100:\n",
    "        return 'A'\n",
    "    elif x >= 90:\n",
    "        return 'B'\n",
    "    elif x < 90 or x is None:\n",
    "        return 'C'\n",
    "\n",
    "def matrizsesgo(x2,rows):\n",
    "    xn = x2.copy(deep=True)\n",
    "\n",
    "    Ntotalc =x2[\"Total\"]/x2[\"Total\"].loc[\"Total\"]\n",
    "    xn.iloc[0:rows] = xn.loc[\"Total\"]\n",
    "    x2[\"NTotal\"] = Ntotalc\n",
    "    xcn = xn.multiply(x2[\"NTotal\"], axis = \"index\")\n",
    "    return xcn\n",
    "\n",
    "for cd in cdlist:\n",
    "    df2 = pivotlistc[cd]\n",
    "    df2t = pivotlistc2[cd]\n",
    "    rowsch = df2t.shape[0]\n",
    "    mirrorc = matrizsesgo(df2t,rowsch)\n",
    "    #Cuenta los datos no vacios, convierte a porcentaje y categoriza\n",
    "    df3 = df2.count()\n",
    "    df3 = df3.divide(155).multiply(100)\n",
    "    df3a= df3.apply(categoria)\n",
    "    aprovedc = df3a[df3a == \"A\"]\n",
    "    aprovedc = list(aprovedc.index.values)\n",
    "    matstoprojectc[cd] = aprovedc\n",
    "    df3a=df3a.value_counts()\n",
    "    cframe[cd] = df3a\n",
    "\n",
    "    df4 = pivotlists[cd]\n",
    "    df4t = pivotlists2[cd]\n",
    "    rowssal = df4t.shape[0]\n",
    "    mirrors = matrizsesgo(df4t,rowssal)\n",
    "    df5 = df4.count()\n",
    "    df5 = df5.divide(155).multiply(100)\n",
    "    df5a= df5.apply(categoria)\n",
    "    aproveds = df5a[df5a == \"A\"]\n",
    "    aproveds = list(aproveds.index.values)\n",
    "    matstoprojects[cd] = aproveds\n",
    "    df5a=df5a.value_counts()\n",
    "    sframe[cd] = df5a\n",
    "\n",
    "    df2.fillna(mirrorc, inplace=True)\n",
    "    df4.fillna(mirrors, inplace=True)\n",
    "    dfproyeccionesc[cd] = df2\n",
    "    dfproyeccioness[cd] = df4\n",
    "\n",
    "spath = os.path.join(path,\"Reporte_Salchichas ABC.xlsx\")\n",
    "cpath = os.path.join(path,\"Reporte_Chorizos ABC.xlsx\")\n",
    "#Guarda el reporte en excel\n",
    "print(sframe)\n",
    "print(cframe)\n",
    "sframe.to_excel(spath, index_label=\"Periodo\")\n",
    "cframe.to_excel(cpath, index_label=\"Periodo\")\n",
    "print(\"Termino\")"
   ]
  },
  {
   "cell_type": "code",
   "execution_count": null,
   "metadata": {
    "pycharm": {
     "name": "#%%\n"
    }
   },
   "outputs": [],
   "source": [
    "errores = []\n",
    "\n",
    "def Proyeccion(cd,columnName,df3,periodos,ptrend,pseasonal,pdamped,puse,tipo):\n",
    "        df10 = df3[df3[columnName] > 0]\n",
    "        df10 = df10[['Periodo', columnName]]\n",
    "        df10 = df10.set_index('Periodo')\n",
    "     \n",
    "        #df10.plot(figsize=(12, 5))\n",
    "        # Analisis de descomposicion\n",
    "        #components = seasonal_decompose(df10, period=8)\n",
    "        #components.plot()\n",
    "        # Proyeccion\n",
    "        fit1 = Holt(df10,exponential=ptrend,damped_trend=pdamped,initialization_method=\"estimated\").fit()\n",
    "        #print(fit1.summary())\n",
    "        # Calcula el intervalo de confianza al 95% y lo salva\n",
    "        xhat = fit1.forecast(steps= pproyeccion)\n",
    "        z = 1.96\n",
    "        sse = fit1.sse\n",
    "        predint_xminus = xhat - z * np.sqrt(sse/len(df10))\n",
    "        predint_xplus  = xhat + z * np.sqrt(sse/len(df10))\n",
    "\n",
    "        df = [predint_xminus,predint_xplus]\n",
    "        df = pd.DataFrame(df)\n",
    "        df = df.transpose()\n",
    "        col0 = columnName + \"_minimo\"\n",
    "        col1 = columnName + \"_maximo\"\n",
    "\n",
    "        # Changing columns name with index number\n",
    "        mapping = {df.columns[0]: col0, df.columns[1]: col1}\n",
    "        df = df.rename(columns=mapping)\n",
    "\n",
    "        # Salva los intervalos\n",
    "\n",
    "        mdir = os.path.join(dir_actual, Pais)\n",
    "        mfila = cd+\"-\"+tipo+\"-\"+vista + '-_intervalo_'+columnName+'.xlsx'\n",
    "        dirPath = os.path.join(mdir, mfila)\n",
    "        #df.to_excel(dirPath, index_label=\"Periodo\")\n",
    "\n",
    "\n",
    "        # Intervalo de confianza por simulacion\n",
    "        simulations = fit1.simulate(pproyeccion, repetitions=1, error=\"add\", random_errors=None)\n",
    "        #ax = df10.plot(figsize=(12, 5),marker=\"o\",color=\"black\",title=\"Proyeccion\",)\n",
    "        #ax.set_ylabel(\"Venta\")\n",
    "        #ax.set_xlabel(\"Periodo\")\n",
    "        #fit1.fittedvalues.plot(ax=ax, style=\"--\", color=\"green\")\n",
    "        #fit1.forecast(steps=pproyeccion).rename(\"Proyeccion\").plot(ax=ax, style=\"--\", marker=\"o\", color=\"green\", legend=True )\n",
    "\n",
    "\n",
    "        # Grafica la serie de Ajuste y la añade a fit1\n",
    "        df6 = fit1.forecast(pproyeccion)\n",
    "        df6.plot()\n",
    "        df7 = fit1.predict(0)\n",
    "\n",
    "        df8 = [df7,df6]\n",
    "\n",
    "        #df1 = (df0[[columnName]])\n",
    "\n",
    "        df = pd.DataFrame(df8)\n",
    "        df = df.transpose()\n",
    "        col0 = columnName + \"_ajuste\"\n",
    "        col1 = columnName + \"_proyeccion\"\n",
    "        col2 = columnName \n",
    "\n",
    "        # Changing columns name with index number\n",
    "        mapping = {df.columns[0]: col0, df.columns[1]: col1}\n",
    "        df = df.rename(columns=mapping)\n",
    "        df = df.fillna(0)\n",
    "        df[col2] = df[col1].add(df10[columnName],fill_value=0)\n",
    "        # Salva la proyeccion normal\n",
    "        mdir = os.path.join(dir_actual, Pais)\n",
    "        mfila = cd+\"-\"+tipo+\"-\"+ vista + '-py_'+columnName+'.xlsx'\n",
    "        dirPath = os.path.join(mdir, mfila)\n",
    "        df.to_excel(dirPath, index_label=\"Periodo\")\n",
    "\n",
    "        # Calcula el Error por medio del MAPE, lo guarda en un diccionario\n",
    "        df99 = [df7]\n",
    "        yy = pd.DataFrame(df99)\n",
    "        yy = yy.transpose()\n",
    "        xx = pd.DataFrame(df10)\n",
    "        errores.append({\"cd\":cd+\"-\"+tipo+\"-\"+columnName,\"Mape\":mape(xx,yy),\"wmape\":wmape(xx,yy),\"tipo\":tipo})\n",
    "\n",
    "def Procesamiento(df,cd,tipo):\n",
    "    for (columnName, columnData) in df.items():\n",
    "        #print('Column Name : ', columnName)\n",
    "        #print('Column Contents : ', columnData.values)\n",
    "        # Parametros personalizados\n",
    "        ptrend = False\n",
    "        pseasonal = 'add'\n",
    "        pdamped = False\n",
    "        puse = 0.7\n",
    "        periodos = 24\n",
    "\n",
    "        if (columnName != 'Periodo') :\n",
    "           try:\n",
    "                Proyeccion(cd,columnName,df,periodos,ptrend,pseasonal,pdamped,puse,tipo)\n",
    "           except:\n",
    "                Proyeccion(cd,columnName,df,4,ptrend,pseasonal,pdamped,puse,tipo)\n",
    "\n",
    "\n",
    "for cd in cdlist:\n",
    "\n",
    "    totalcds = e2s[cd]\n",
    "    totalcds = totalcds.drop(\"Total\")\n",
    "    totalcdc = e2c[cd]\n",
    "    totalcdc = totalcdc.drop(\"Total\")\n",
    "\n",
    "\n",
    "\n",
    "    dfps2 = dfproyeccioness[cd]\n",
    "    dfps2 = dfps2.loc[:, dfps2.columns.isin(matstoprojects[cd])]\n",
    "    dfps2['Total'] = totalcds\n",
    "    #Crea las semanas para la proyeccion, si no las genera pandas no hace el pronostico correctamente\n",
    "    dfps2['Periodo'] = pd.date_range(start=\"2/02/2020\", periods=dfps2.shape[0], freq=\"W\")\n",
    "    dfps2.to_excel(cd +\"test.xlsx\", index_label=\"Periodo\")\n",
    "    Procesamiento(dfps2,cd,\"Salchicha\")\n",
    "\n",
    "    dfpc2 = dfproyeccionesc[cd]\n",
    "    dfpc2 = dfpc2.loc[:, dfpc2.columns.isin(matstoprojectc[cd])]\n",
    "    dfpc2['Total'] = totalcdc\n",
    "    dfpc2['Periodo'] = pd.date_range(start=\"2/02/2020\", periods=dfpc2.shape[0], freq=\"W\")\n",
    "    dfpc2.to_excel(cd +\"testc.xlsx\", index_label=\"Periodo\")\n",
    "    Procesamiento(dfpc2,cd,\"Chorizo\")\n",
    "    dferrores = pd.DataFrame(errores)\n",
    "print(\"terminado\") \n"
   ]
  },
  {
   "cell_type": "code",
   "execution_count": null,
   "metadata": {
    "pycharm": {
     "is_executing": true,
     "name": "#%%\n"
    }
   },
   "outputs": [],
   "source": [
    "#Errores a excel:\n",
    "mdir2 = os.path.join(dir_actual, Pais,\"reportes\")\n",
    "mfilac = vista + '-CentroDistribucion-Chorizos-Errores.xlsx'\n",
    "dirPathc = os.path.join(mdir2, mfilac)\n",
    "mfilas = vista + '-CentrosDistribucion-Salchichas-Errores.xlsx'\n",
    "dirPaths = os.path.join(mdir2, mfilas)\n",
    "print(dferrores)\n",
    "dfes = dferrores[dferrores[\"tipo\"]== \"Salchicha\"]\n",
    "dfec = dferrores[dferrores[\"tipo\"]== \"Chorizo\"]\n",
    "dfes.to_excel(dirPaths)\n",
    "dfec.to_excel(dirPathc)\n",
    "\n",
    "# Une la salida\n",
    "\n",
    "for cd in cdlist:\n",
    "    for tipo in [\"Salchicha\",\"Chorizo\"]:\n",
    "        df=[]\n",
    "\n",
    "        mdir = os.path.join(dir_actual, Pais)\n",
    "        mfila = os.path.join(mdir, cd +\"-\"+tipo+\"-\"+ vista + \"-py*\")\n",
    "        files = glob.glob(mfila)\n",
    "        #print(mfila)\n",
    "        for a in files:\n",
    "            df.append( pd.read_excel(a, sheet_name='Sheet1'))\n",
    "\n",
    "        i = 0\n",
    "        for x in df:\n",
    "            if i > 0 :\n",
    "                dt = pd.merge(dt, df[i])\n",
    "            else :\n",
    "                dt = df[0]\n",
    "            i = i + 1\n",
    "       \n",
    "        # Salva la proyeccion final de cada serie\n",
    "        mdir = os.path.join(dir_actual, Pais)\n",
    "        mfila = cd+\"-\"+tipo+\"-\"+ vista + '-Reporte_Final.xlsx'\n",
    "        dirPath = os.path.join(mdir2,tipo, mfila)\n",
    "        dt= dt.set_index('Periodo')\n",
    "        dt = dt[dt.columns.drop(list(dt.filter(regex='_ajuste')))]\n",
    "        dt = dt[dt.columns.drop(list(dt.filter(regex='_proyeccion')))]\n",
    "        dt2= dt.iloc[:, :-1].sum(axis=1)\n",
    "        dt['A'] = dt2\n",
    "        dt['B+C'] = dt['Total'] - dt['A']\n",
    "        dt.insert(0, 'B+C', dt.pop('B+C'))\n",
    "        dt.insert(0, 'A', dt.pop('A'))\n",
    "\n",
    "        dt.to_excel(dirPath)\n",
    "\n",
    "      "
   ]
  },
  {
   "cell_type": "code",
   "execution_count": null,
   "metadata": {
    "pycharm": {
     "name": "#%%\n"
    }
   },
   "outputs": [],
   "source": [
    "Procesamiento(e1,\"Lineas\",\"Proyeccion\")\n",
    "df=[]\n",
    "\n",
    "mdir = os.path.join(dir_actual, Pais)\n",
    "mfila = os.path.join(mdir, \"Lineas-Proyeccion-CarnicosData-ini-py*\")\n",
    "files = glob.glob(mfila)\n",
    "#print(mfila)\n",
    "for a in files:\n",
    "    df.append( pd.read_excel(a, sheet_name='Sheet1'))\n",
    "\n",
    "i = 0\n",
    "for x in df:\n",
    "    if i > 0 :\n",
    "        dt = pd.merge(dt, df[i])\n",
    "    else :\n",
    "        dt = df[0]\n",
    "    i = i + 1\n",
    "       \n",
    "# Salva la proyeccion final de cada serie\n",
    "mdir = os.path.join(dir_actual, Pais)\n",
    "mfila = 'Lineas-Proyeccion-CarnicosData-Reporte_Final.xlsx'\n",
    "dirPath = os.path.join(mdir, mfila)\n",
    "dt= dt.set_index('Periodo')\n",
    "dt = dt[dt.columns.drop(list(dt.filter(regex='_ajuste')))]\n",
    "dt = dt[dt.columns.drop(list(dt.filter(regex='_proyeccion')))]\n",
    "dt.to_excel(dirPath)"
   ]
  },
  {
   "cell_type": "code",
   "execution_count": null,
   "metadata": {
    "pycharm": {
     "name": "#%%\n"
    }
   },
   "outputs": [],
   "source": [
    "dfes"
   ]
  },
  {
   "cell_type": "code",
   "execution_count": null,
   "metadata": {
    "pycharm": {
     "name": "#%%\n"
    }
   },
   "outputs": [],
   "source": []
  }
 ],
 "metadata": {
  "kernelspec": {
   "display_name": "Python 3 (ipykernel)",
   "language": "python",
   "name": "python3"
  },
  "language_info": {
   "codemirror_mode": {
    "name": "ipython",
    "version": 3
   },
   "file_extension": ".py",
   "mimetype": "text/x-python",
   "name": "python",
   "nbconvert_exporter": "python",
   "pygments_lexer": "ipython3",
   "version": "3.11.1"
  }
 },
 "nbformat": 4,
 "nbformat_minor": 1
}
